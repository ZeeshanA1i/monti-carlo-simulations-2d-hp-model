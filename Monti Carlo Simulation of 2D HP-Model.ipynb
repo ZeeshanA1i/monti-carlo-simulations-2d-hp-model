{
 "cells": [
  {
   "cell_type": "markdown",
   "metadata": {},
   "source": [
    "# 3D Modeling & Simulations in Bioinformatcis -- CS06F\n",
    "## National University of Computer & Emerging Sciences Islamabad\n",
    "### Assignment: Monti Carlo Simulation of 2D-HP Model\n",
    "#### ZEESHAN ALI, I14-1623, BS(CS)\n",
    "##### (Instructor: Dr. Hammad Naveed)"
   ]
  },
  {
   "cell_type": "markdown",
   "metadata": {},
   "source": [
    "<img src=\"screen.png\">"
   ]
  },
  {
   "cell_type": "code",
   "execution_count": 1,
   "metadata": {
    "collapsed": false
   },
   "outputs": [],
   "source": [
    "from graphics import *\n",
    "\n",
    "import numpy as np\n",
    "import matplotlib.pyplot as plt"
   ]
  },
  {
   "cell_type": "code",
   "execution_count": 2,
   "metadata": {
    "collapsed": false
   },
   "outputs": [
    {
     "name": "stdout",
     "output_type": "stream",
     "text": [
      "810 590\n"
     ]
    }
   ],
   "source": [
    "n = 30 # n is the maximum possible size of the Protein\n",
    "\n",
    "d = 10 # d is the diameter of circle and / or shortest distance between two circles\n",
    "\n",
    "shift_x = 10\n",
    "\n",
    "# win_length and win_width are the length and width of window respectively\n",
    "win_length, win_width = (2*n-1)*d + (2*(shift_x+1)*d), (2*n-1)*d\n",
    "\n",
    "print win_length, win_width"
   ]
  },
  {
   "cell_type": "markdown",
   "metadata": {},
   "source": [
    "## Protien Sequences"
   ]
  },
  {
   "cell_type": "markdown",
   "metadata": {},
   "source": [
    "<img src=\"protiens.png\">"
   ]
  },
  {
   "cell_type": "code",
   "execution_count": 3,
   "metadata": {
    "collapsed": false
   },
   "outputs": [
    {
     "name": "stdout",
     "output_type": "stream",
     "text": [
      "20 HPHPPHHPHPPHPHHPPHPH\n",
      "24 HHPPHPPHPPHPPHPPHPPHPPHH\n",
      "25 PPHPPHHPPPPHHPPPPHHPPPPHH\n",
      "36 PPPHHPPHHPPPPPHHHHHHHPPHHPPPPHHPPHPP\n",
      "48 PPHPPHHPPHHPPPPPHHHHHHHHHHPPPPPPPPHHPPHHHPPHHHHH\n",
      "51 HHPHPHPHPHHHHPHPPPHPPPHPPPPHPPPHPPPHPHPHHHHHPHPHPHH\n",
      "60 PPHHHPHHHHHHHHPPPHHHHHHHHHHPHPPPHHHHHHHHHHHHPPPPHHHHHHPHHPHP\n",
      "64 HHHHHHHHHHHHPHPHPPHHPPHHPPHPPHHPPHHPPHPPHHPPHHPPHPHPHHHHHHHHHHHH\n",
      "85 HHHHPPPPHHHHHHHHHHHHPPPPPPHHHHHHHHHHHHPPPHHHHHHHHHHHHPPPHHHHHHHHHHHHPPPHPPHHPPHHPPHPH\n",
      "100 PPPHHPPHHHHPPHHHPHHPHHPHHHHPPPPPPPPHHHHHHPPHHHHHHPPPPPPPPPHPHHPHHHHHHHHHHHPPHHHPHHPHPPHPHHHPPPPPPHHH\n",
      "100 PPPPPPHPHHPPPPPHHHPHHHHHPHHPPPPHHPPHHPHHHHHPHHHHHHHHHHPHHPHHHHHHHPPPPPPPPPPPHHHHHHHPPHPHHHPPPPPPHPHH\n",
      "\n",
      "STRING_LENGTH: 60 \n",
      "STRING: PPHHHPHHHHHHHHPPPHHHHHHHHHHPHPPPHHHHHHHHHHHHPPPPHHHHHHPHHPHP\n"
     ]
    }
   ],
   "source": [
    "STRING_01 = \"HP\"*2+\"P\"+\"H\"*2+\"P\"+\"H\"+\"P\"*2+\"H\"+\"P\"+\"H\"*2+\"P\"*2+\"HPH\"\n",
    "STRING_02 = \"H\"*2+(\"P\"*2+\"H\")*7+\"H\"\n",
    "STRING_03 = \"P\"*2+\"H\"+\"P\"*2+(\"H\"*2+\"P\"*4)*3+\"H\"*2\n",
    "STRING_04 = \"P\"*3+\"H\"*2+\"P\"*2+\"H\"*2+\"P\"*5+\"H\"*7+\"P\"*2+\"H\"*2+\"P\"*4+\"H\"*2+\"P\"*2+\"H\"+\"P\"*2\n",
    "STRING_05 = \"P\"*2+\"H\"+(\"P\"*2+\"H\"*2)*2+\"P\"*5+\"H\"*10+\"P\"*6+(\"P\"*2+\"H\"*2)*2+\"H\"+\"P\"*2+\"H\"*5\n",
    "STRING_06 = \"H\"*2+\"PH\"*3+\"P\"+\"H\"*4+\"PH\"+(\"P\"*3+\"H\")*2+\"P\"*4+\"H\"+(\"P\"*3+\"H\")*2+\"PHP\"+\"H\"*4+\"HP\"*3+\"H\"*2\n",
    "STRING_07 = \"PPHHHPHHHHHHHHPPPHHHHHHHHHHPHPPPHHHHHHHHHHHHPPPPHHHHHHPHHPHP\"\n",
    "STRING_08 = \"H\"*12+\"PH\"*2+\"PPHH\"*2+\"PPHPPHHPPHHPPHPPHHPPHHPPHPHP\"+\"H\"*12\n",
    "STRING_09 = \"HHHHPPPPHHHHHHHHHHHHPPPPPP\"+(\"H\"*12+\"P\"*3)*3+\"HPPHHPPHHPPHPH\"\n",
    "STRING_10 = \"PPPHHPPHHHHPPHHHPHHPHHPHHHHPPPPPPPPHHHHHHPPHHHHHHPPPPPPPPPHPHHPHHHHHHHHHHHPPHHHPHHPHPPHPHHHPPPPPPHHH\"\n",
    "STRING_11 = \"PPPPPPHPHHPPPPPHHHPHHHHHPHHPPPPHHPPHHPHHHHHPHHHHHHHHHHPHHPHHHHHHHPPPPPPPPPPPHHHHHHHPPHPHHHPPPPPPHPHH\"\n",
    "\n",
    "print len(STRING_01), STRING_01\n",
    "print len(STRING_02), STRING_02\n",
    "print len(STRING_03), STRING_03\n",
    "print len(STRING_04), STRING_04\n",
    "print len(STRING_05), STRING_05\n",
    "print len(STRING_06), STRING_06\n",
    "print len(STRING_07), STRING_07\n",
    "print len(STRING_08), STRING_08\n",
    "print len(STRING_09), STRING_09\n",
    "print len(STRING_10), STRING_10\n",
    "print len(STRING_11), STRING_11\n",
    "\n",
    "STRING = STRING_07\n",
    "STRING_LENGTH = len(STRING)\n",
    "print\n",
    "print \"STRING_LENGTH:\", STRING_LENGTH, \"\\nSTRING:\",STRING"
   ]
  },
  {
   "cell_type": "code",
   "execution_count": 4,
   "metadata": {
    "collapsed": true
   },
   "outputs": [],
   "source": [
    "x_i = lambda i: d/2.0 + (i-1)*(2*d)\n",
    "y_j = lambda j: d/2.0 + (j-1)*(2*d)"
   ]
  },
  {
   "cell_type": "code",
   "execution_count": 5,
   "metadata": {
    "collapsed": true
   },
   "outputs": [],
   "source": [
    "def find(rp, pair):\n",
    "    '''\n",
    "    Input:\n",
    "        rp=[[x1, y1], [x2, y2], [x3, y3], ..., [xn, yn]]\n",
    "        pair=(a,b)\n",
    "    \n",
    "    Output:\n",
    "        TRUE: pair belongs to rp\n",
    "        FALSE: otherwise\n",
    "    '''\n",
    "    for idx in range(len(rp)):\n",
    "        if rp[idx][0] == pair[0] and rp[idx][1] == pair[1]:\n",
    "            return True\n",
    "    return False"
   ]
  },
  {
   "cell_type": "code",
   "execution_count": 6,
   "metadata": {
    "collapsed": false
   },
   "outputs": [],
   "source": [
    "def rand_init(rp, start, dead_ends):\n",
    "    '''\n",
    "    Input:\n",
    "        rp = [[x1, y1], [x2, y2], [x3, y3], ..., [xn, yn]]\n",
    "        start: starting index for random initialization\n",
    "        dead_ends: positions that it cannot go anwhere else from\n",
    "    \n",
    "    Output:\n",
    "        rp = [[x1, y1], [x2, y2], [x3, y3], ..., [xn, yn]]\n",
    "        \n",
    "    '''\n",
    "    directions = ['L', 'R', 'L', 'R', 'U', 'D']\n",
    "    for i in range(start, len(STRING)):\n",
    "        np.random.shuffle(directions)\n",
    "        for d in range(len(directions)):\n",
    "            if directions[d] == 'L' and rp[i-1][0] > 0:\n",
    "                rp[i][1] = rp[i-1][1]\n",
    "                rp[i][0] = rp[i-1][0] - 1\n",
    "                break\n",
    "            elif directions[d] == 'R' and rp[i-1][0] < n-1:\n",
    "                rp[i][1] = rp[i-1][1]\n",
    "                rp[i][0] = rp[i-1][0] + 1\n",
    "                break\n",
    "            elif directions[d] == 'U' and rp[i-1][1] > 0:\n",
    "                rp[i][0] = rp[i-1][0]\n",
    "                rp[i][1] = rp[i-1][1] - 1\n",
    "                break\n",
    "            elif directions[d] == 'D' and rp[i-1][1] < n-1:\n",
    "                rp[i][0] = rp[i-1][0]\n",
    "                rp[i][1] = rp[i-1][1] + 1\n",
    "                break\n",
    "            else:\n",
    "                np.append(arr=dead_ends, values=rp[i-1])\n",
    "                return rand_init(rp, i-1, dead_ends) # move a step back and try again\n",
    "        if find(rp[:i], rp[i]): # if position is already occpied\n",
    "            return rand_init(rp, i-1, dead_ends) # try again\n",
    "        if find(dead_ends, rp[i]): # if position is a dead end\n",
    "            return rand_init(rp, i-1, dead_ends) # move a step back and try again\n",
    "    return rp"
   ]
  },
  {
   "cell_type": "code",
   "execution_count": 7,
   "metadata": {
    "collapsed": false
   },
   "outputs": [
    {
     "name": "stdout",
     "output_type": "stream",
     "text": [
      "[[ 1  2  3  3  3  4  5  5  6  6  6  7  8  9  9 10 10 11 11 10  9  8  7  7\n",
      "   8  8  8  8  7  7  6  5  4  4  3  2  2  3  4  5  6  7  8  8  7  7  8  9\n",
      "  10 11 11 12 12 12 13 14 14 14 14 15]\n",
      " [16 16 16 17 18 18 18 17 17 16 15 15 15 15 16 16 17 17 18 18 18 18 18 19\n",
      "  19 20 21 22 22 21 21 21 21 22 22 22 23 23 23 23 23 23 23 24 24 25 25 25\n",
      "  25 25 24 24 25 26 26 26 25 24 23 23]]\n"
     ]
    }
   ],
   "source": [
    "residue_position = np.array([(0, 0) for i in range(len(STRING))])\n",
    "\n",
    "residue_position[0] = (np.mod(np.random.rand()*1024, n),\n",
    "                       np.mod(np.random.rand()*1024, n))\n",
    "\n",
    "# residue_position[0] = (0, np.mod(np.random.rand()*1024, n))\n",
    "\n",
    "rand_init(residue_position, 1, np.array([]))\n",
    "print residue_position.T"
   ]
  },
  {
   "cell_type": "code",
   "execution_count": 8,
   "metadata": {
    "collapsed": false
   },
   "outputs": [],
   "source": [
    "# Centralize the random initialization\n",
    "def centralize(residue_position):\n",
    "    mid_x = (np.min(residue_position.T[0]) + np.max(residue_position.T[0])) / 2\n",
    "    diff = n / 2 - mid_x\n",
    "    residue_position.T[0] += diff\n",
    "\n",
    "    mid_y = (np.min(residue_position.T[1]) + np.max(residue_position.T[1])) / 2\n",
    "    diff = n / 2 - mid_y\n",
    "    residue_position.T[1] += diff\n",
    "\n",
    "centralize(residue_position)"
   ]
  },
  {
   "cell_type": "code",
   "execution_count": 9,
   "metadata": {
    "collapsed": true
   },
   "outputs": [],
   "source": [
    "def connect_Horizontally(x1, y1, x2, y2):\n",
    "    if x1 < x2:\n",
    "        lineSeg = Line(Point(x1+d/2.0, y1-1),\n",
    "                      Point(x2-d/2.0, y2-1))\n",
    "        lineSeg.draw(win)\n",
    "        lineSeg = Line(Point(x1+d/2.0, y1),\n",
    "                      Point(x2-d/2.0, y2))\n",
    "        lineSeg.draw(win)\n",
    "        lineSeg = Line(Point(x1+d/2.0, y1+1),\n",
    "                      Point(x2-d/2.0, y2+1))\n",
    "        lineSeg.draw(win)\n",
    "    else:\n",
    "        lineSeg = Line(Point(x2+d/2.0, y1-1),\n",
    "                      Point(x1-d/2.0, y2-1))\n",
    "        lineSeg.draw(win)\n",
    "        lineSeg = Line(Point(x2+d/2.0, y1),\n",
    "                      Point(x1-d/2.0, y2))\n",
    "        lineSeg.draw(win)\n",
    "        lineSeg = Line(Point(x2+d/2.0, y1+1),\n",
    "                      Point(x1-d/2.0, y2+1))\n",
    "        lineSeg.draw(win)\n",
    "        \n",
    "def connect_Vertically(x1, y1, x2, y2):\n",
    "    if y1 < y2:\n",
    "        lineSeg = Line(Point(x1-1, y1+d/2.0),\n",
    "                      Point(x2-1, y2-d/2.0))\n",
    "        lineSeg.draw(win)\n",
    "        lineSeg = Line(Point(x1, y1+d/2.0),\n",
    "                      Point(x2, y2-d/2.0))\n",
    "        lineSeg.draw(win)\n",
    "        lineSeg = Line(Point(x1+1, y1+d/2.0),\n",
    "                      Point(x2+1, y2-d/2.0))\n",
    "        lineSeg.draw(win)\n",
    "    else:\n",
    "        lineSeg = Line(Point(x1-1, y2+d/2.0),\n",
    "                      Point(x2-1, y1-d/2.0))\n",
    "        lineSeg.draw(win)\n",
    "        lineSeg = Line(Point(x1, y2+d/2.0),\n",
    "                      Point(x2, y1-d/2.0))\n",
    "        lineSeg.draw(win)\n",
    "        lineSeg = Line(Point(x1+1, y2+d/2.0),\n",
    "                      Point(x2+1, y1-d/2.0))\n",
    "        lineSeg.draw(win)"
   ]
  },
  {
   "cell_type": "code",
   "execution_count": 10,
   "metadata": {
    "collapsed": false
   },
   "outputs": [],
   "source": [
    "def draw_Circles(win):\n",
    "    for i in range(n):\n",
    "        for j in range(n):\n",
    "            c = Circle(Point(x_i(i+1), y_j(j+1)), d/2.0)\n",
    "            c.draw(win)\n",
    "\n",
    "def draw_boundary(win):\n",
    "    boundary = Rectangle(p1=Point(x_i(n)+d+0, y_j(1)+0), p2=Point(win_length-d/2.0-0, y_j(n)-0))\n",
    "    boundary.draw(win)\n",
    "    boundary = Rectangle(p1=Point(x_i(n)+d+1, y_j(1)+1), p2=Point(win_length-d/2.0-1, y_j(n)-1))\n",
    "    boundary.draw(win)\n",
    "    boundary = Rectangle(p1=Point(x_i(n)+d+2, y_j(1)+2), p2=Point(win_length-d/2.0-2, y_j(n)-2))\n",
    "    boundary.draw(win)\n",
    "\n",
    "def draw_Chain(win, rp):\n",
    "    for i in range(len(rp)):\n",
    "        c = Circle(Point(x_i(rp[i][0]+1), y_j(rp[i][1]+1)), d/2.0)\n",
    "        if STRING[i] == 'P': # Polar\n",
    "            c.draw(win)\n",
    "            c.setFill(\"Red\")\n",
    "        else: # Hydrophobic\n",
    "            c.draw(win)\n",
    "            c.setFill(\"Blue\")\n",
    "\n",
    "def connect_residues(residue_position):\n",
    "    for r in range(len(STRING)-1):\n",
    "        if residue_position[r][0] == residue_position[r+1][0]: # Abscissa are same\n",
    "            connect_Vertically(x_i(1+residue_position[r][0]), y_j(1+residue_position[r][1]),\n",
    "                               x_i(1+residue_position[r+1][0]), y_j(1+residue_position[r+1][1]))\n",
    "        else: # Ordinates (i.e. y-axes) are same\n",
    "            connect_Horizontally(x_i(1+residue_position[r][0]), y_j(1+residue_position[r][1]), \n",
    "                                 x_i(1+residue_position[r+1][0]), y_j(1+residue_position[r+1][1]))\n",
    "            \n",
    "def display_text(T, line=1):\n",
    "    string = Text(Point(x_i(n)+12*d, y_j(line+1)), T)\n",
    "    string.setStyle(\"bold\")\n",
    "    string.setFace(\"arial\")\n",
    "    string.draw(win)\n",
    "\n",
    "def draw_interface(win):\n",
    "    win.setBackground(\"white\")\n",
    "\n",
    "    draw_boundary(win)\n",
    "\n",
    "    display_text(\"MONTI-CARLO\", line=4)\n",
    "    display_text(\"SIMULATION\", line=6)\n",
    "    display_text(\"OF\", line=8)\n",
    "    display_text(\"HP-MODEL\", line=10)\n",
    "\n",
    "    h = Circle(Point(x_i(n)+3*d, y_j(n-5)), d/2)\n",
    "    h.draw(win)\n",
    "    h.setFill(\"blue\")\n",
    "    display_text(\"Hydrophobic\", line=n-6)\n",
    "\n",
    "    p = Circle(Point(x_i(n)+3*d, y_j(n-7)), d/2)\n",
    "    p.draw(win)\n",
    "    p.setFill(\"red\")\n",
    "    display_text(\"Polar\", line=n-8)\n",
    "\n",
    "    e = Circle(Point(x_i(n)+3*d, y_j(n-9)), d/2)\n",
    "    e.draw(win)\n",
    "    display_text(\"Vacant\", line=n-10)"
   ]
  },
  {
   "cell_type": "code",
   "execution_count": 11,
   "metadata": {
    "collapsed": false
   },
   "outputs": [],
   "source": [
    "def find_idx(rp, pair):\n",
    "    '''\n",
    "    Input:\n",
    "        rp=[[x1, y1], [x2, y2], [x3, y3], ..., [xn, yn]]\n",
    "        pair=(a,b)\n",
    "    \n",
    "    Output:\n",
    "        Index of pair in rp\n",
    "        -1: otherwise\n",
    "    '''\n",
    "    for idx in range(len(rp)):\n",
    "        if rp[idx][0] == pair[0] and rp[idx][1] == pair[1]:\n",
    "            return idx\n",
    "    return None"
   ]
  },
  {
   "cell_type": "code",
   "execution_count": 12,
   "metadata": {
    "collapsed": false
   },
   "outputs": [],
   "source": [
    "def distance(x1, y1, x2, y2):\n",
    "    return np.sqrt(np.square(x1-x2) + np.square(y1-y2))"
   ]
  },
  {
   "cell_type": "markdown",
   "metadata": {},
   "source": [
    "## Move sets\n",
    "<img src=\"mutations.png\">"
   ]
  },
  {
   "cell_type": "markdown",
   "metadata": {},
   "source": [
    "#### Crank shaft"
   ]
  },
  {
   "cell_type": "code",
   "execution_count": 13,
   "metadata": {
    "collapsed": false
   },
   "outputs": [],
   "source": [
    "def crank_shaft_mutation(rp, idx):\n",
    "    '''\n",
    "    Input:\n",
    "        rp=[[x1, y1], [x2, y2], [x3, y3], ..., [xn, yn]]\n",
    "        idx: index of the position of the mid-residue\n",
    "    \n",
    "    Output:\n",
    "        rp: mutated chain residue positions OR None: if it is not a crank craft case\n",
    "    '''\n",
    "    if idx > 0 and idx+3 < len(rp):\n",
    "        x1, y1 = rp[idx]\n",
    "        x2, y2 = rp[idx+1]\n",
    "        x3, y3 = rp[idx+2]\n",
    "        x4, y4 = rp[idx+3]\n",
    "        if (not find(rp, (x2-2, y2))\n",
    "            and not find(rp, (x3-2, y3))\n",
    "            and distance(x1, y1, x2-2, y2) == 1\n",
    "            and distance(x3-2, y3, x4, y4) == 1):\n",
    "            rp[idx+1][0] -= 2\n",
    "            rp[idx+2][0] -= 2\n",
    "            return np.copy(rp)\n",
    "        elif (not find(rp, (x2+2, y2))\n",
    "            and not find(rp, (x3+2, y3))\n",
    "            and distance(x3+2, y3, x2+2, y2) == 1\n",
    "            and distance(x1, y1, x2+2, y2) == 1\n",
    "            and distance(x3+2, y3, x4, y4) == 1):\n",
    "            rp[idx+1][0] += 2\n",
    "            rp[idx+2][0] += 2\n",
    "            return np.copy(rp)\n",
    "        elif (not find(rp, (x2, y2-2))\n",
    "            and not find(rp, (x3, y3-2))\n",
    "            and distance(x3, y3-2, x2, y2-2) == 1\n",
    "            and distance(x1, y1, x2, y2-2) == 1\n",
    "            and distance(x3, y3-2, x4, y4) == 1):\n",
    "            rp[idx+1][1] -= 2\n",
    "            rp[idx+2][1] -= 2\n",
    "            return np.copy(rp)\n",
    "        elif (not find(rp, (x2, y2+2))\n",
    "            and not find(rp, (x3, y3+2))\n",
    "            and distance(x3, y3+2, x2, y2+2) == 1\n",
    "            and distance(x1, y1, x2, y2+2) == 1\n",
    "            and distance(x3, y3+2, x4, y4) == 1):\n",
    "            rp[idx+1][1] += 2\n",
    "            rp[idx+2][1] += 2\n",
    "            return np.copy(rp)\n",
    "        else:\n",
    "            return []\n",
    "    else:\n",
    "        return []"
   ]
  },
  {
   "cell_type": "markdown",
   "metadata": {},
   "source": [
    "#### Corner flip"
   ]
  },
  {
   "cell_type": "code",
   "execution_count": 14,
   "metadata": {
    "collapsed": false
   },
   "outputs": [],
   "source": [
    "def corner_flip_mutation(rp, idx):\n",
    "    '''\n",
    "    Input:\n",
    "        rp=[[x1, y1], [x2, y2], [x3, y3], ..., [xn, yn]]\n",
    "        idx: index of the position of the mid-residue\n",
    "    \n",
    "    Output:\n",
    "        rp: mutated chain residue positions OR None: if it is not a corner flip case\n",
    "    '''\n",
    "    if idx > 1 or idx+1 < len(rp):\n",
    "        x1, y1 = rp[idx-1]\n",
    "        x2, y2 = rp[idx]\n",
    "        x3, y3 = rp[idx+1]\n",
    "        if (not find(rp, (x2-1, y2-1))\n",
    "        and distance(x1, y1, x2-1, y2-1) == 1\n",
    "        and distance(x3, y3, x2-1, y2-1) == 1): #1\n",
    "            rp[idx][0] -= 1\n",
    "            rp[idx][1] -= 1\n",
    "            return np.copy(rp)\n",
    "        elif (not find(rp, (x2-1, y2+1))\n",
    "        and distance(x1, y1, x2-1, y2+1) == 1\n",
    "        and distance(x3, y3, x2-1, y2+1) == 1): #2\n",
    "            rp[idx][0] -= 1\n",
    "            rp[idx][1] += 1\n",
    "            return np.copy(rp)\n",
    "        elif (not find(rp, (x2+1, y2-1))\n",
    "        and distance(x1, y1, x2+1, y2-1) == 1\n",
    "        and distance(x3, y3, x2+1, y2-1) == 1): #3\n",
    "            rp[idx][0] += 1\n",
    "            rp[idx][1] -= 1\n",
    "            return np.copy(rp)\n",
    "        elif (not find(rp, (x2+1, y2+1))\n",
    "        and distance(x1, y1, x2+1, y2+1) == 1\n",
    "        and distance(x3, y3, x2+1, y2+1) == 1): #4\n",
    "            rp[idx][0] += 1\n",
    "            rp[idx][1] += 1\n",
    "            return np.copy(rp)\n",
    "        else:\n",
    "            return []            \n",
    "    else:\n",
    "        return []"
   ]
  },
  {
   "cell_type": "markdown",
   "metadata": {},
   "source": [
    "#### End move"
   ]
  },
  {
   "cell_type": "code",
   "execution_count": 15,
   "metadata": {
    "collapsed": false
   },
   "outputs": [],
   "source": [
    "def end_move_mutation(rp, i):\n",
    "    '''\n",
    "    INPUT:\n",
    "        rp: residue positions before mutation\n",
    "        i: position of the end residue\n",
    "    OUTPUT:\n",
    "        rp: residue positions after mutation\n",
    "    '''\n",
    "    possibles = []\n",
    "    if i == 0:\n",
    "        x1, y1, x2, y2 = rp[i][0], rp[i][1], rp[i+1][0], rp[i+1][1]\n",
    "    elif i == n-1:\n",
    "        x1, y1, x2, y2 = rp[i][0], rp[i][1], rp[i-1][0], rp[i-1][1]\n",
    "    else:\n",
    "        return []\n",
    "    \n",
    "    if x1-1 > 0 and distance(x1-1, y1, x2, y2) == 1:\n",
    "        possibles.append((x1-1, y1))\n",
    "    if x1+1 < n and distance(x1+1, y1, x2, y2) == 1:\n",
    "        possibles.append((x1+1, y1))\n",
    "    if y1-1 > 0 and distance(x1, y1-1, x2, y2) == 1:\n",
    "        possibles.append((x1, y1-1))\n",
    "    if y1+1 < n and distance(x1, y1+1, x2, y2) == 1:\n",
    "        possibles.append((x1, y1+1))\n",
    "        \n",
    "    if (x1-1 > 0 and y1-1 > 0) and distance(x1-1, y1-1, x2, y2) == 1:\n",
    "        possibles.append((x1-1, y1-1))\n",
    "    if (x1-1 > 0 and y1+1 < n) and distance(x1-1, y1+1, x2, y2) == 1:\n",
    "        possibles.append((x1-1, y1+1))\n",
    "    if (x1+1 < n and y1-1 > 0) and distance(x1+1, y1-1, x2, y2) == 1:\n",
    "        possibles.append((x1+1, y1-1))\n",
    "    if (x1+1 < n and y1+1 < n) and distance(x1+1, y1+1, x2, y2) == 1:\n",
    "        possibles.append((x1+1, y1+1))\n",
    "        \n",
    "    np.random.shuffle(possibles)\n",
    "    if len(possibles) > 0:\n",
    "        for idx in range(len(possibles)):\n",
    "            if not find(rp, possibles[idx]):\n",
    "                rp[i][0] = possibles[idx][0]\n",
    "                rp[i][1] = possibles[idx][1]\n",
    "                return rp\n",
    "    else:\n",
    "        return []"
   ]
  },
  {
   "cell_type": "markdown",
   "metadata": {},
   "source": [
    "#### Mirror image move"
   ]
  },
  {
   "cell_type": "code",
   "execution_count": 16,
   "metadata": {
    "collapsed": true
   },
   "outputs": [],
   "source": [
    "def mirror_image_mutation(rp, idx):\n",
    "    idx2 = idx + 7\n",
    "    if rp[idx][0] == rp[idx2][0] and rp[idx][0] != rp[idx+2][0]:\n",
    "        check = True\n",
    "        for i in range(idx+1, idx2):\n",
    "            if find(rp, (rp[idx][0]+rp[idx][0]-rp[i][0], rp[i][1])):\n",
    "                check = False\n",
    "                break\n",
    "        if check:\n",
    "            for i in range(idx+1, idx2):\n",
    "                rp[i][0] = rp[idx][0]+rp[idx][0]-rp[i][0]\n",
    "        return np.copy(rp)\n",
    "    elif rp[idx][1] == rp[idx2][1] and rp[idx][1] != rp[idx+2][1]:\n",
    "        check = True\n",
    "        for i in range(idx+1, idx2):\n",
    "            if find(rp, (rp[idx][0], rp[idx][1]+rp[idx][1]-rp[i][1])):\n",
    "                check = False\n",
    "                break\n",
    "        if check:\n",
    "            for i in range(idx+1, idx2):\n",
    "                rp[i][1] = rp[idx][1]+rp[idx][1]-rp[i][1]\n",
    "        return np.copy(rp)\n",
    "    return []"
   ]
  },
  {
   "cell_type": "markdown",
   "metadata": {},
   "source": [
    "## Random Mutation"
   ]
  },
  {
   "cell_type": "code",
   "execution_count": 17,
   "metadata": {
    "collapsed": false
   },
   "outputs": [],
   "source": [
    "def random_mutation(rp):\n",
    "    '''\n",
    "    Input:\n",
    "        rp: residue positions before mutation e.g. [[x1, y1], [x2, y2], [x3, y3], ..., [xn, yn]]\n",
    "    \n",
    "    Output:\n",
    "        rp: residue positions after mutation e.g. [[x1, y1], [x2', y2'], [x3, y3], ..., [xn, yn]]\n",
    "    '''\n",
    "    move_sets = [\"Crank shaft\", \"Corner flip\", \"End move\"]\n",
    "    \n",
    "    np.random.shuffle(move_sets)\n",
    "    idx = np.random.randint(n)\n",
    "    for m in range(len(move_sets)):\n",
    "        if move_sets[m] == \"Crank shaft\" and idx+5 < n:\n",
    "            crank_shaft = crank_shaft_mutation(rp, idx)\n",
    "            if len(crank_shaft) != 0:\n",
    "                return crank_shaft, \"Crank shaft\"\n",
    "        elif move_sets[m] == \"Corner flip\" and idx+2 < n:\n",
    "            corner_flip = corner_flip_mutation(rp, idx)\n",
    "            if len(corner_flip) != 0:\n",
    "                return corner_flip, \"Corner flip\"\n",
    "        elif np.random.randint(10) > 6: # End move with p=.3\n",
    "            em_idx = np.mod(np.random.randint(10), 2)*(len(rp)-1)\n",
    "            end_move = end_move_mutation(rp, em_idx)\n",
    "            if end_move != []:\n",
    "                return end_move, \"End Move\"\n",
    "            \n",
    "            if em_idx == len(rp)-1:\n",
    "                end_move = end_move_mutation(rp, 0)\n",
    "            else:\n",
    "                end_move = end_move_mutation(rp, len(rp)-1)\n",
    "            if end_move != []:\n",
    "                return end_move, \"End Move\"\n",
    "    return rp, \"None\" # No mutation occurred, it is highly unlikely."
   ]
  },
  {
   "cell_type": "code",
   "execution_count": 18,
   "metadata": {
    "collapsed": false
   },
   "outputs": [],
   "source": [
    "def calculate_Energy(rp):\n",
    "    '''\n",
    "    Input:\n",
    "        rp=[[x1, y1], [x2, y2], [x3, y3], ..., [xn, yn]]\n",
    "    \n",
    "    Output:\n",
    "        Energy of the chain represented as rp such that E(H, H) = -1 and E(H, P) = E(P, P) = 0 where E(X, Y)\n",
    "        is the score of the disconnection between X and Y in any direction including diagonals\n",
    "    '''\n",
    "    energy = 0\n",
    "    for idx in range(len(rp)):\n",
    "        if STRING[idx] == 'H':\n",
    "            '''\n",
    "            DIRECT CONNECTIONS\n",
    "            '''\n",
    "            # check whether it can move towards left\n",
    "            if rp[idx][0]-1 > 0:\n",
    "                index = find_idx(rp, (rp[idx][0]-1, rp[idx][1]))\n",
    "                '''\n",
    "                check whether 'index' is a valid index\n",
    "                and there is a 'H' residue towards left\n",
    "                and residues at 'index' and 'idx' are not connected\n",
    "                '''\n",
    "                if index != None and STRING[index] == 'H' and abs(index-idx) != 1:\n",
    "                    energy -= 1\n",
    "            # check whether it can move towards right\n",
    "            if rp[idx][0]+1 < n:\n",
    "                index = find_idx(rp, (rp[idx][0]+1, rp[idx][1]))\n",
    "                '''\n",
    "                check whether 'index' is a valid index\n",
    "                and there is a 'H' residue towards left\n",
    "                and residues at 'index' and 'idx' are not connected\n",
    "                '''\n",
    "                if index != None and STRING[index] == 'H' and abs(index-idx) != 1:\n",
    "                    energy -= 1\n",
    "            # check whether it can move upward\n",
    "            if rp[idx][1]-1 > 0:\n",
    "                index = find_idx(rp, (rp[idx][0], rp[idx][1]-1))\n",
    "                '''\n",
    "                check whether 'index' is a valid index\n",
    "                and there is a 'H' residue towards left\n",
    "                and residues at 'index' and 'idx' are not connected\n",
    "                '''\n",
    "                if index != None and STRING[index] == 'H' and abs(index-idx) != 1:\n",
    "                    energy -= 1\n",
    "            # check whether it can move downward\n",
    "            if rp[idx][1]+1 < n:\n",
    "                index = find_idx(rp, (rp[idx][0], rp[idx][1]+1))\n",
    "                '''\n",
    "                check whether 'index' is a valid index\n",
    "                and there is a 'H' residue towards left\n",
    "                and residues at 'index' and 'idx' are not connected\n",
    "                '''\n",
    "                if index != None and STRING[index] == 'H' and abs(index-idx) != 1:\n",
    "                    energy -= 1\n",
    "            '''\n",
    "            DIAGONAL CONNECTIONS\n",
    "            '''\n",
    "            # check whether it can move towards up-left\n",
    "            if rp[idx][0]-1 > 0 and rp[idx][1]-1 > 0:\n",
    "                index = find_idx(rp, (rp[idx][0]-1, rp[idx][1]-1))\n",
    "                # check whether there is a 'H' residue towards left\n",
    "                if index != None and STRING[index] == 'H':\n",
    "                    energy -= 1\n",
    "            # check whether it can move towards down-left\n",
    "            if rp[idx][0]-1 > 0 and rp[idx][1]+1 < n:\n",
    "                index = find_idx(rp, (rp[idx][0]-1, rp[idx][1]+1))\n",
    "                # check whether there is a 'H' residue towards left\n",
    "                if index != None and STRING[index] == 'H':\n",
    "                    energy -= 1\n",
    "            # check whether it can move towards down-right\n",
    "            if rp[idx][0]+1 < n and rp[idx][1]+1 < n:\n",
    "                index = find_idx(rp, (rp[idx][0]+1, rp[idx][1]+1))\n",
    "                # check whether there is a 'H' residue towards left\n",
    "                if index != None and STRING[index] == 'H':\n",
    "                    energy -= 1\n",
    "            # check whether it can move towards up-right\n",
    "            if rp[idx][0]+1 < n and rp[idx][1]-1 > 0:\n",
    "                index = find_idx(rp, (rp[idx][0]+1, rp[idx][1]-1))\n",
    "                # check whether there is a 'H' residue towards right\n",
    "                if index != None and STRING[index] == 'H':\n",
    "                    energy -= 1\n",
    "                    \n",
    "    return energy / 2"
   ]
  },
  {
   "cell_type": "markdown",
   "metadata": {},
   "source": [
    "# Main Block"
   ]
  },
  {
   "cell_type": "code",
   "execution_count": 19,
   "metadata": {
    "collapsed": false
   },
   "outputs": [
    {
     "name": "stderr",
     "output_type": "stream",
     "text": [
      "/home/zeeshan/anaconda2/lib/python2.7/site-packages/ipykernel/__main__.py:15: DeprecationWarning: elementwise != comparison failed; this will raise an error in the future.\n",
      "/home/zeeshan/anaconda2/lib/python2.7/site-packages/ipykernel/__main__.py:25: DeprecationWarning: elementwise != comparison failed; this will raise an error in the future.\n",
      "/home/zeeshan/anaconda2/lib/python2.7/site-packages/ipykernel/__main__.py:32: DeprecationWarning: elementwise != comparison failed; this will raise an error in the future.\n",
      "/home/zeeshan/anaconda2/lib/python2.7/site-packages/ipykernel/__main__.py:15: DeprecationWarning: The truth value of an empty array is ambiguous. Returning False, but in future this will result in an error. Use `array.size > 0` to check that an array is not empty.\n"
     ]
    }
   ],
   "source": [
    "probability = 0.5\n",
    "NUM_OF_ITERATIONS = 1000\n",
    "hyper_parameter = 4\n",
    "\n",
    "energy = calculate_Energy(residue_position)\n",
    "\n",
    "energies = []\n",
    "rpositions = []\n",
    "mutation_type = []\n",
    "\n",
    "for iteration in range(NUM_OF_ITERATIONS):\n",
    "    rp_, m_type = random_mutation(residue_position)\n",
    "    residue_position_updated = np.copy(rp_)\n",
    "\n",
    "    if residue_position_updated != []:\n",
    "        energy_updated = calculate_Energy(residue_position_updated)\n",
    "        if (energy_updated < energy):\n",
    "            energy = energy_updated\n",
    "            residue_position = np.copy(residue_position_updated)\n",
    "#         elif ((energy_updated-energy) <= hyper_parameter*probability):\n",
    "        elif min(1, np.exp((energy_updated-energy)/hyper_parameter)) > probability:\n",
    "            energy = energy_updated\n",
    "            residue_position = np.copy(residue_position_updated)            \n",
    "    \n",
    "    energies.append(energy)\n",
    "    rpositions.append(residue_position)\n",
    "    mutation_type.append(m_type)"
   ]
  },
  {
   "cell_type": "markdown",
   "metadata": {},
   "source": [
    "# Plot Energies"
   ]
  },
  {
   "cell_type": "code",
   "execution_count": 20,
   "metadata": {
    "collapsed": false
   },
   "outputs": [
    {
     "data": {
      "image/png": "[encoded data removed]",
      "text/plain": [
       "<matplotlib.figure.Figure at 0x7fbb32fd1ed0>"
      ]
     },
     "metadata": {},
     "output_type": "display_data"
    },
    {
     "name": "stdout",
     "output_type": "stream",
     "text": [
      "-31 -38\n",
      "-27 -46\n"
     ]
    }
   ],
   "source": [
    "plt.plot(energies,\n",
    "         label = \"Energies\")\n",
    "\n",
    "plt.xlabel = \"Energy\"\n",
    "plt.xlim(xmin = 0, xmax = NUM_OF_ITERATIONS+10)\n",
    "plt.xscale(\"linear\")\n",
    "\n",
    "plt.ylabel = \"Iteration\"\n",
    "plt.ylim(np.min(energies)-5, ymax = np.max(energies)+5)\n",
    "plt.yscale(\"linear\")\n",
    "\n",
    "plt.grid = True\n",
    "\n",
    "plt.legend()\n",
    "\n",
    "plt.show()\n",
    "\n",
    "print energies[0], energies[-1]\n",
    "print max(energies), min(energies)"
   ]
  },
  {
   "cell_type": "markdown",
   "metadata": {},
   "source": [
    "# Visualize the mutations"
   ]
  },
  {
   "cell_type": "code",
   "execution_count": 21,
   "metadata": {
    "collapsed": true
   },
   "outputs": [],
   "source": [
    "win = GraphWin(\"Monti Carlo Simulation (2D HP-Model)\", win_length, win_width)\n",
    "\n",
    "draw_interface(win)\n",
    "\n",
    "display_text(\"Iteration: \"+str(0), line=14)\n",
    "display_text(mutation_type[0], line=16)\n",
    "display_text(\"Energy: \"+str(energies[0]), line=18)\n",
    "draw_Chain(win, rpositions[0])\n",
    "connect_residues(rpositions[0])\n",
    "    \n",
    "win.getMouse() # Pause to view result\n",
    "win.close()    # Close window when done"
   ]
  },
  {
   "cell_type": "code",
   "execution_count": 22,
   "metadata": {
    "collapsed": true
   },
   "outputs": [],
   "source": [
    "win = GraphWin(\"Monti Carlo Simulation (2D HP-Model)\", win_length, win_width)\n",
    "\n",
    "draw_interface(win)\n",
    "\n",
    "display_text(\"Iteration: \"+str(len(energies)), line=14)\n",
    "display_text(mutation_type[len(energies)-1], line=16)\n",
    "display_text(\"Energy: \"+str(energies[len(energies)-1]), line=18)\n",
    "draw_Chain(win, rpositions[len(energies)-1])\n",
    "connect_residues(rpositions[len(energies)-1])\n",
    "    \n",
    "win.getMouse() # Pause to view result\n",
    "win.close()    # Close window when done"
   ]
  },
  {
   "cell_type": "code",
   "execution_count": 23,
   "metadata": {
    "collapsed": false
   },
   "outputs": [],
   "source": [
    "win = GraphWin(\"Monti Carlo Simulation (2D HP-Model)\", win_length, win_width)\n",
    "\n",
    "for iteration in range(0, NUM_OF_ITERATIONS, NUM_OF_ITERATIONS/10-1):\n",
    "    for i in range(10**7):\n",
    "        dummy=i # delay next mutation\n",
    "    \n",
    "    clear = Rectangle(Point(0, 0), Point(win_length, win_width))\n",
    "    clear.setFill(\"White\")\n",
    "    clear.draw(win)\n",
    "\n",
    "    draw_interface(win)\n",
    "    \n",
    "    display_text(\"Iteration: \"+str(iteration+1), line=14)\n",
    "    display_text(mutation_type[iteration], line=16)\n",
    "    display_text(\"Energy: \"+str(energies[iteration]), line=18)\n",
    "    draw_Chain(win, rpositions[iteration])\n",
    "    connect_residues(rpositions[iteration])\n",
    "    \n",
    "win.getMouse() # Pause to view result\n",
    "win.close()    # Close window when done"
   ]
  },
  {
   "cell_type": "code",
   "execution_count": null,
   "metadata": {
    "collapsed": true
   },
   "outputs": [],
   "source": []
  },
  {
   "cell_type": "code",
   "execution_count": null,
   "metadata": {
    "collapsed": true
   },
   "outputs": [],
   "source": []
  }
 ],
 "metadata": {
  "anaconda-cloud": {},
  "kernelspec": {
   "display_name": "Python [conda root]",
   "language": "python",
   "name": "conda-root-py"
  },
  "language_info": {
   "codemirror_mode": {
    "name": "ipython",
    "version": 2
   },
   "file_extension": ".py",
   "mimetype": "text/x-python",
   "name": "python",
   "nbconvert_exporter": "python",
   "pygments_lexer": "ipython2",
   "version": "2.7.12"
  }
 },
 "nbformat": 4,
 "nbformat_minor": 1
}
